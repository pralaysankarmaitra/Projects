{
  "nbformat": 4,
  "nbformat_minor": 0,
  "metadata": {
    "colab": {
      "provenance": []
    },
    "kernelspec": {
      "name": "python3",
      "display_name": "Python 3"
    }
  },
  "cells": [
    {
      "cell_type": "markdown",
      "metadata": {
        "id": "TOeyuajPOFoV"
      },
      "source": [
        "#Coding Assignment 1\n",
        "Linear Regression Program - Salary and Experience\n",
        "Author: Pralay Sankar Maitra"
      ]
    },
    {
      "cell_type": "code",
      "metadata": {
        "id": "a7rDjc8cNW8G"
      },
      "source": [
        "# Importing the libraries\n",
        "import numpy as np\n",
        "import matplotlib.pyplot as plt\n",
        "import pandas as pd\n",
        "from sklearn.linear_model import LinearRegression\n",
        "import plotly.express as px\n",
        "import plotly.graph_objects as go\n",
        "import seaborn as sns\n",
        "from sklearn.metrics import mean_squared_error\n",
        "from sklearn.metrics import mean_absolute_error\n"
      ],
      "execution_count": null,
      "outputs": []
    },
    {
      "cell_type": "markdown",
      "metadata": {
        "id": "PqEKvmvvzmhx"
      },
      "source": [
        "## load file"
      ]
    },
    {
      "cell_type": "code",
      "metadata": {
        "id": "Ar894XeOOgZc",
        "colab": {
          "base_uri": "https://localhost:8080/",
          "height": 814
        },
        "outputId": "9c45c5c0-7832-4c58-a2c4-8c9cecd664e0"
      },
      "source": [
        "# Importing the dataset\n",
        "dataset = pd.read_csv('/content/salary-experience-dataset.csv')\n",
        "print(dataset)\n",
        "\n",
        "\n",
        "plt.scatter(X, y, color='red', alpha=0.5)\n",
        "plt.show()\n"
      ],
      "execution_count": null,
      "outputs": [
        {
          "output_type": "stream",
          "name": "stdout",
          "text": [
            "    YearsExperience      Salary2\n",
            "0               1.1   1547871649\n",
            "1               1.3   2134902025\n",
            "2               1.5   1423628361\n",
            "3               2.0   1894425625\n",
            "4               2.2   1591291881\n",
            "5               2.9   3208316164\n",
            "6               3.0   3618022500\n",
            "7               3.2   2964258025\n",
            "8               3.2   4153158025\n",
            "9               3.7   3270581721\n",
            "10              3.9   3996515524\n",
            "11              4.0   3112970436\n",
            "12              4.0   3244099849\n",
            "13              4.1   3258240561\n",
            "14              4.5   3734554321\n",
            "15              4.9   4615571844\n",
            "16              5.1   4359828841\n",
            "17              5.3   6903615744\n",
            "18              5.9   6619937769\n",
            "19              6.0   8824723600\n",
            "20              6.8   8415860644\n",
            "21              7.1   9657582529\n",
            "22              7.9  10262095204\n",
            "23              8.2  12953171344\n",
            "24              8.7  11975143761\n",
            "25              9.0  11147558724\n",
            "26              9.5  13681746961\n",
            "27              9.6  12686643225\n",
            "28             10.3  14979556881\n",
            "29             10.5  14852784384\n"
          ]
        },
        {
          "output_type": "display_data",
          "data": {
            "text/plain": [
              "<Figure size 432x288 with 1 Axes>"
            ],
            "image/png": "[encoded data removed]"
          },
          "metadata": {
            "needs_background": "light"
          }
        }
      ]
    },
    {
      "cell_type": "code",
      "source": [
        "# Select only two features for our X\n",
        "X = dataset['YearsExperience']\n",
        "print(X)\n",
        "\n",
        "# Target variable\n",
        "y = dataset['Salary2']\n",
        "#print(y)"
      ],
      "metadata": {
        "id": "RCtKpYmrx0_w",
        "colab": {
          "base_uri": "https://localhost:8080/"
        },
        "outputId": "53b02a74-87bc-483b-9830-24a8705074d3"
      },
      "execution_count": null,
      "outputs": [
        {
          "output_type": "stream",
          "name": "stdout",
          "text": [
            "0      1.1\n",
            "1      1.3\n",
            "2      1.5\n",
            "3      2.0\n",
            "4      2.2\n",
            "5      2.9\n",
            "6      3.0\n",
            "7      3.2\n",
            "8      3.2\n",
            "9      3.7\n",
            "10     3.9\n",
            "11     4.0\n",
            "12     4.0\n",
            "13     4.1\n",
            "14     4.5\n",
            "15     4.9\n",
            "16     5.1\n",
            "17     5.3\n",
            "18     5.9\n",
            "19     6.0\n",
            "20     6.8\n",
            "21     7.1\n",
            "22     7.9\n",
            "23     8.2\n",
            "24     8.7\n",
            "25     9.0\n",
            "26     9.5\n",
            "27     9.6\n",
            "28    10.3\n",
            "29    10.5\n",
            "Name: YearsExperience, dtype: float64\n"
          ]
        }
      ]
    },
    {
      "cell_type": "markdown",
      "metadata": {
        "id": "vDJAdXaxPjPb"
      },
      "source": [
        "## Train Test Split"
      ]
    },
    {
      "cell_type": "code",
      "metadata": {
        "id": "hQgpaWDnPbWN",
        "colab": {
          "base_uri": "https://localhost:8080/"
        },
        "outputId": "c4a1dd44-f2fa-4065-baa1-e9598745ec12"
      },
      "source": [
        "#reshape to 2D arrays\n",
        "X_np = np.reshape(X.to_numpy(), (-1,1))\n",
        "Y_np = np.reshape(y.to_numpy(), (-1,1))\n",
        "\n",
        "# Splitting the dataset into the Training set and Test set\n",
        "from sklearn.model_selection import train_test_split\n",
        "X_train, X_test, y_train, y_test = train_test_split(X_np, Y_np, test_size = 1/3, random_state = 0)\n",
        "\n",
        "print(X_train.shape)\n",
        "print(X_test.shape)\n",
        "print(y_train.shape)\n",
        "print(y_test.shape)"
      ],
      "execution_count": null,
      "outputs": [
        {
          "output_type": "stream",
          "name": "stdout",
          "text": [
            "(20, 1)\n",
            "(10, 1)\n",
            "(20, 1)\n",
            "(10, 1)\n"
          ]
        }
      ]
    },
    {
      "cell_type": "markdown",
      "metadata": {
        "id": "8GSa-uyISUcV"
      },
      "source": [
        "## Train using training split"
      ]
    },
    {
      "cell_type": "code",
      "metadata": {
        "id": "O_Jnj_tCSXkt",
        "colab": {
          "base_uri": "https://localhost:8080/"
        },
        "outputId": "3046dd6a-bbb4-420f-c1b2-169c700fc4aa"
      },
      "source": [
        "\n",
        "regressor_2 = LinearRegression()\n",
        "regressor_2.fit(X_train, y_train)\n",
        "\n",
        "y_pred = regressor_2.predict(X_test)\n",
        "\n",
        "print('MSE', mean_squared_error(y_test, y_pred))\n",
        "print('MAE', mean_absolute_error(y_test, y_pred))"
      ],
      "execution_count": null,
      "outputs": [
        {
          "output_type": "stream",
          "name": "stdout",
          "text": [
            "MSE 7.553137888572664e+17\n",
            "MAE 712700962.637804\n"
          ]
        }
      ]
    },
    {
      "cell_type": "code",
      "source": [
        "# Print the coeffiecents (theta_1, theta_2, ...)\n",
        "print('Coeffecients: ', regressor_2.coef_)\n",
        "\n",
        "# Print the y-intercept (theta_0)\n",
        "print('Intercept: ', regressor_2.intercept_)"
      ],
      "metadata": {
        "colab": {
          "base_uri": "https://localhost:8080/"
        },
        "id": "W0xZeRkwA8dG",
        "outputId": "bbb2bd37-3ff2-44ff-b2ca-618616982aa6"
      },
      "execution_count": null,
      "outputs": [
        {
          "output_type": "stream",
          "name": "stdout",
          "text": [
            "Coeffecients:  [[1.46900295e+09]]\n",
            "Intercept:  [-1.3079589e+09]\n"
          ]
        }
      ]
    },
    {
      "cell_type": "code",
      "source": [
        "\n",
        "plt.scatter(X_test, y_test, color='red', alpha=0.5)\n",
        "plt.plot(X_test, y_pred, color='blue',  alpha=0.3)"
      ],
      "metadata": {
        "colab": {
          "base_uri": "https://localhost:8080/",
          "height": 293
        },
        "id": "U5fqQwiyYE9h",
        "outputId": "ed2934b3-3f60-43b9-cfab-4fc8356a9130"
      },
      "execution_count": null,
      "outputs": [
        {
          "output_type": "execute_result",
          "data": {
            "text/plain": [
              "[<matplotlib.lines.Line2D at 0x7f200a85d990>]"
            ]
          },
          "metadata": {},
          "execution_count": 67
        },
        {
          "output_type": "display_data",
          "data": {
            "text/plain": [
              "<Figure size 432x288 with 1 Axes>"
            ],
            "image/png": "[encoded data removed]"
          },
          "metadata": {
            "needs_background": "light"
          }
        }
      ]
    },
    {
      "cell_type": "markdown",
      "metadata": {
        "id": "vjCapNU4b-_Q"
      },
      "source": [
        "## Generating Polynomial Features."
      ]
    },
    {
      "cell_type": "code",
      "metadata": {
        "id": "Q0kLqoMUcDT-",
        "colab": {
          "base_uri": "https://localhost:8080/",
          "height": 630
        },
        "outputId": "2ada46b1-38f7-477e-bb84-feab3f230ab1"
      },
      "source": [
        "# https://stats.stackexchange.com/questions/58739/polynomial-regression-using-scikit-learn\n",
        "# https://towardsdatascience.com/polynomial-regression-bbe8b9d97491\n",
        "\n",
        "from sklearn.preprocessing import PolynomialFeatures\n",
        "\n",
        "polynomial_features = PolynomialFeatures(degree=2)\n",
        "#x_poly = polynomial_features.fit_transform(X)\n",
        "x_train_poly =  polynomial_features.fit_transform(X_train)\n",
        "x_test_poly = polynomial_features.transform(X_test)\n",
        "print(x_train_poly)\n",
        "\n",
        "plt.scatter(x_train_poly[:,1], x_train_poly[:,2], color='red', alpha=0.5)\n",
        "#plt.scatter(, y_train, color='blue',  alpha=0.2)"
      ],
      "execution_count": null,
      "outputs": [
        {
          "output_type": "stream",
          "name": "stdout",
          "text": [
            "[[  1.     2.9    8.41]\n",
            " [  1.     5.1   26.01]\n",
            " [  1.     3.2   10.24]\n",
            " [  1.     4.5   20.25]\n",
            " [  1.     8.2   67.24]\n",
            " [  1.     6.8   46.24]\n",
            " [  1.     1.3    1.69]\n",
            " [  1.    10.5  110.25]\n",
            " [  1.     3.     9.  ]\n",
            " [  1.     2.2    4.84]\n",
            " [  1.     5.9   34.81]\n",
            " [  1.     6.    36.  ]\n",
            " [  1.     3.7   13.69]\n",
            " [  1.     3.2   10.24]\n",
            " [  1.     9.    81.  ]\n",
            " [  1.     2.     4.  ]\n",
            " [  1.     1.1    1.21]\n",
            " [  1.     7.1   50.41]\n",
            " [  1.     4.9   24.01]\n",
            " [  1.     4.    16.  ]]\n"
          ]
        },
        {
          "output_type": "execute_result",
          "data": {
            "text/plain": [
              "<matplotlib.collections.PathCollection at 0x7f200a848f50>"
            ]
          },
          "metadata": {},
          "execution_count": 69
        },
        {
          "output_type": "display_data",
          "data": {
            "text/plain": [
              "<Figure size 432x288 with 1 Axes>"
            ],
            "image/png": "[encoded data removed]"
          },
          "metadata": {
            "needs_background": "light"
          }
        }
      ]
    },
    {
      "cell_type": "markdown",
      "metadata": {
        "id": "wQMeLEXJhdiI"
      },
      "source": [
        "## Fit a linear regressor on this polynomial feature data"
      ]
    },
    {
      "cell_type": "code",
      "metadata": {
        "id": "65gbaLDthbma",
        "colab": {
          "base_uri": "https://localhost:8080/",
          "height": 276
        },
        "outputId": "76498f4c-dc60-43af-b8c8-96e0e0ba798d"
      },
      "source": [
        "# Fit using only the 2nd degree feature\n",
        "x_train_poly_2 = np.reshape(x_train_poly[:,2], (-1,1))\n",
        "x_test_poly_2 = np.reshape(x_test_poly[:,2], (-1,1))\n",
        "\n",
        "model_poly = LinearRegression()\n",
        "model_poly.fit(x_train_poly_2, y_train)\n",
        "\n",
        "y_poly_pred = model_poly.predict(x_test_poly_2)\n",
        "\n",
        "# Visualising the Y and X results\n",
        "plt.scatter(X_test, y_test, color='red', alpha=0.5)\n",
        "plt.scatter(X_test, y_poly_pred, color='black', alpha=0.5)\n",
        "plt.show()"
      ],
      "execution_count": null,
      "outputs": [
        {
          "output_type": "display_data",
          "data": {
            "text/plain": [
              "<Figure size 432x288 with 1 Axes>"
            ],
            "image/png": "[encoded data removed]"
          },
          "metadata": {
            "needs_background": "light"
          }
        }
      ]
    },
    {
      "cell_type": "code",
      "source": [
        "print('MSE', mean_squared_error(y_test, y_poly_pred))\n",
        "print('MAE', mean_absolute_error(y_test, y_poly_pred))"
      ],
      "metadata": {
        "colab": {
          "base_uri": "https://localhost:8080/"
        },
        "id": "g-eT8z_xaZFS",
        "outputId": "a6e634e1-f9fa-4f45-f4c0-a0f017352499"
      },
      "execution_count": null,
      "outputs": [
        {
          "output_type": "stream",
          "name": "stdout",
          "text": [
            "MSE 6.014496235291625e+17\n",
            "MAE 634951674.4367009\n"
          ]
        }
      ]
    }
  ]
}